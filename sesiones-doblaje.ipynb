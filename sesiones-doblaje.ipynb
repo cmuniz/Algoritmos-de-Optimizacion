{
 "cells": [
  {
   "cell_type": "markdown",
   "id": "d95e60c9-9c3f-4d86-aa21-7d5c9c712a9f",
   "metadata": {},
   "source": [
    "# Algoritmos de optimización - Seminario<br>\n",
    "Nombre y Apellidos:   Cristian Muñiz Álvarez <br>\n",
    "Url: https://github.com/cmuniz/Algoritmos-de-Optimizacion/blob/1438bc74df5bce0a9987edd1405b16cd54553d88/sesiones-doblaje.ipynb<br>\n",
    "\n",
    "Problema:\n",
    "\n",
    "# Organizar sesiones de doblaje <br>\n",
    "\n",
    "\n",
    "### Descripción del problema:\n",
    "\n",
    "Se precisa coordinar el doblaje de una película. Los actores del doblaje deben coincidir en las tomas en las que sus personajes aparecen juntos en las diferentes tomas. \n",
    "\n",
    "Los actores de doblaje cobran todos la misma cantidad por cada día que deben desplazarse hasta el estudio de grabación independientemente del número de tomas que se graben. No es posible grabar más de 6 tomas por día. \n",
    "\n",
    "El objetivo es planificar las sesiones por día de manera que el gasto por los servicios de los actores de doblaje sea el menor posible. \n",
    "\n",
    "Los datos son:\n",
    "- Números de actores: 10\n",
    "- Números de tomas: 30\n",
    "- Actores/Tomas: https://bit.ly/36D8IuK"
   ]
  },
  {
   "cell_type": "markdown",
   "id": "048533d5-aaac-4589-b5eb-16afe5a7d396",
   "metadata": {},
   "source": [
    "## ¿Cuántas posibilidades hay sin tener en cuenta las restricciones?"
   ]
  },
  {
   "cell_type": "markdown",
   "id": "ed1a8ed2-daf3-4d0c-ada8-0a116ef259ec",
   "metadata": {},
   "source": [
    "Sin tener en cuenta las restricciones, es decir, sin importar cuántas tomas por grupo, ni actores. Bajo esta condición, lo que tenemos que contar es de cuántas formas se pueden agrupar las 30 tomas en subconjuntos no vacíos. Este es un problema de partición de un conjunto.\n",
    "\n",
    "La formas de particionar un conjunto de $n$ elementos en subjuntos disjuntos no vacíos es mediante el número de Bell. Para calcular este número fácilmente para nuestro conjunto $n=30$, podemos utilizar la librería `sympy` de python:"
   ]
  },
  {
   "cell_type": "code",
   "execution_count": 1,
   "id": "afe599c6-fe3b-4293-9219-cd32caeafcc7",
   "metadata": {},
   "outputs": [
    {
     "name": "stdout",
     "output_type": "stream",
     "text": [
      "Número de particiones: 846749014511809332450147 ~ 8.5E+23\n"
     ]
    }
   ],
   "source": [
    "from sympy import bell \n",
    "numero = int(bell(30))\n",
    "\n",
    "print(f\"Número de particiones: {numero} ~ {numero:.1E}\")"
   ]
  },
  {
   "cell_type": "markdown",
   "id": "8e5859d0-d71f-4046-ac17-099ecd88bebe",
   "metadata": {},
   "source": [
    "Sin tener en cuenta que cada grupo debe tener como máximo 6 tomas, tenemos un espacio de búsqueda del orden ~$10^{23}$ elementos."
   ]
  },
  {
   "cell_type": "markdown",
   "id": "ff9a5dbc-0e41-49f2-9407-ad964c09b40e",
   "metadata": {},
   "source": [
    "## Estructura de datos del problema"
   ]
  },
  {
   "cell_type": "markdown",
   "id": "e65eeea4-0b60-4ae8-b05e-d935d8d6aa47",
   "metadata": {},
   "source": [
    "La estructura de datos planteada para el problema es la siguiente:\n",
    "- **Calendario:** se representa mediante una lista de listas. Permite ver qué tomas hay por día, se recorre facilmente y permite verificar si se puede agregar una toma a ese día o si se ha llegado al máximo.\n",
    "```python\n",
    "  dias = [\n",
    "    [1, 5, 9],   # Día 1: tomas\n",
    "    [2, 4],      # Día 2: tomas\n",
    "    ...\n",
    "    ]\n",
    "```"
   ]
  },
  {
   "cell_type": "markdown",
   "id": "d204a258-16a2-464e-b3bb-82515dfc94ef",
   "metadata": {},
   "source": [
    "- **Tomas:** las tomas se representan con un diccionario donde la clave identifica la toma y el valor es un conjunto con los actores que participan en ella. De esta forma se puede consultar fácilmente qué actores participan en cada toma.\n",
    "\n",
    "```python\n",
    "  tomas_actores = {\n",
    "    1: {1, 3, 4},\n",
    "    2: {2, 4},\n",
    "    ...\n",
    "}\n",
    "```"
   ]
  },
  {
   "cell_type": "markdown",
   "id": "db1bc09b-e132-4d0c-9136-ea5e5113144e",
   "metadata": {},
   "source": [
    "- **Tomas restantes:** Se representa mediante un conjunto que permite un buen control sobre los elementos pendientes y tiene un buen rendimiento.\n",
    "  \n",
    "  ```python\n",
    "  tomas_restantes = {3, 6, 8, 10}\n",
    "   ```\n"
   ]
  },
  {
   "cell_type": "markdown",
   "id": "2c55f8d2-2a5f-45d4-bfc7-2783d8066a90",
   "metadata": {},
   "source": [
    "## Función objetivo del Problema"
   ]
  },
  {
   "cell_type": "markdown",
   "id": "b7beeac8-2479-4bd6-aa6e-6d9c6b50ad52",
   "metadata": {},
   "source": [
    "El objetivo principal es **minimizar** el coste total asociado a la participación de los actores durante el rodaje. \n",
    "\n",
    "Según el enunciado, se indica que cada actor cobra una vez por cada día que asiste al rodaje, independientemente del número de tomas que realice ese día.\n",
    "Por tanto, el coste total del calendario de grabación es la suma, para cada día, del número de actores distintos que deben asistir.\n",
    "\n",
    "\n",
    "Formalmente, se define una variable binaria $y_{a,d}$ que vale 1 si el actor $a$ trabaja el día $d$, y 0 en caso contrario. La función objetivo a minimizar es:\n",
    "\n",
    "$$\n",
    "\\min \\sum_{a \\in A} \\sum_{d \\in D} y_{a,d}\n",
    "$$\n",
    "donde $A$ es el conjunto de actores y $D$ el conjunto de días que se requieran para realizar todas las tomas.\n"
   ]
  },
  {
   "cell_type": "markdown",
   "id": "0ed2d8f9-2c34-4e95-8f02-32aebbdb91df",
   "metadata": {},
   "source": [
    "Implementación de la función de coste en Python:"
   ]
  },
  {
   "cell_type": "code",
   "execution_count": 2,
   "id": "98b76f6a-a4d3-478e-b16f-50834c7519cb",
   "metadata": {},
   "outputs": [],
   "source": [
    "def calcular_coste(calendario):\n",
    "    coste = 0\n",
    "    for dia in calendario:\n",
    "        actores = set()\n",
    "        for toma in dia:\n",
    "            actores.update(tomas_actores[toma])\n",
    "        coste += len(actores)\n",
    "    return coste"
   ]
  },
  {
   "cell_type": "markdown",
   "id": "d3c0831f-4a54-4056-8d1c-8f01de025372",
   "metadata": {},
   "source": [
    "## Algoritmo por Fuerza Bruta"
   ]
  },
  {
   "cell_type": "markdown",
   "id": "04fd032d-d72d-4414-9470-00fe76d4af19",
   "metadata": {},
   "source": [
    "Resolver el problema mediante fuerza bruta significa generar todas las posibles particiones del número de tomas en grupos con el máximo de tomas por día, calcular el coste mediante la función anterior, y quedarnos con la que tenga menor coste total de entre todas.\n",
    "\n",
    "Dado que la función de coste ya la tenemos, dividimos el algoritmo en dos funciones: la función propia del agoritmo de fuerza bruta y una función para generar todas las particiones.\n",
    "\n",
    "- **generar_particiones:** Contruye todas las perticiones posibles, respetando el límite de tomas por día, tal que:\n",
    "  1. Si no quedan tomas por asignar, se devuelve una lista vacía.\n",
    "  2. Se generan todos los grupos posibles de 1 hasta el máximo de tomas por día.\n",
    "  3. Para cada grupo se calcula el conjunto de tomas restantes y se aplica recursivamente la función sobre ellas.\n",
    "- **fuerza_bruta:** Recorre todas las particiones generadas, calcula el coste de cada una y devuelve la mejor solución encontrada."
   ]
  },
  {
   "cell_type": "code",
   "execution_count": 3,
   "id": "b20a73c6-a87f-4d77-981b-d84b9e827805",
   "metadata": {},
   "outputs": [],
   "source": [
    "import itertools\n",
    "import copy"
   ]
  },
  {
   "cell_type": "code",
   "execution_count": 4,
   "id": "aa058e3a-5e56-4cf3-8e81-df98a4096fd2",
   "metadata": {},
   "outputs": [],
   "source": [
    "# Generador de todas las particiones posibles respetando el límite por día\n",
    "def generar_particiones(tomas, max_tomas_dia):\n",
    "    if not tomas:\n",
    "        yield []\n",
    "        return\n",
    "    for i in range(1, min(len(tomas), max_tomas_dia) + 1):\n",
    "        for grupo in itertools.combinations(tomas, i):\n",
    "            restantes = tomas - set(grupo)\n",
    "            for subpart in generar_particiones(restantes, max_tomas_dia):\n",
    "                yield [list(grupo)] + subpart"
   ]
  },
  {
   "cell_type": "code",
   "execution_count": 5,
   "id": "6804dd7a-903e-4f64-acee-c8bca0bdb031",
   "metadata": {},
   "outputs": [],
   "source": [
    "def fuerza_bruta(tomas_actores):\n",
    "    todas_tomas = set(tomas_actores.keys())\n",
    "    mejor_coste = float('inf')\n",
    "    mejor_plan = None\n",
    "\n",
    "    for calendario in generar_particiones(todas_tomas, MAX_TOMAS_POR_DIA):\n",
    "        coste = calcular_coste(calendario)\n",
    "        if coste < mejor_coste:\n",
    "            mejor_coste = coste\n",
    "            mejor_plan = calendario\n",
    "    return mejor_coste, mejor_plan"
   ]
  },
  {
   "cell_type": "markdown",
   "id": "13442a96-7e1d-4110-8cb5-c7ef723770aa",
   "metadata": {},
   "source": [
    "### Conjunto de datos de prueba"
   ]
  },
  {
   "cell_type": "markdown",
   "id": "dbe8b59b-07ae-493a-949a-6900985425ee",
   "metadata": {},
   "source": [
    "Dado que el espacio de busqueda crece exponencialmente. Usamos un conjuto más pequeño para probar este algoritmo:"
   ]
  },
  {
   "cell_type": "code",
   "execution_count": 6,
   "id": "9e738525-8bcf-47a6-a536-82dc7e1d308c",
   "metadata": {},
   "outputs": [],
   "source": [
    "tomas_actores = {\n",
    "    1: {1, 2},\n",
    "    2: {2, 3},\n",
    "    3: {3, 4},\n",
    "    4: {4, 5},\n",
    "    5: {1, 5},\n",
    "    6: {2, 4},\n",
    "    7: {1, 3},\n",
    "    8: {2, 5},\n",
    "    9: {3, 5},\n",
    "}\n",
    "\n",
    "MAX_TOMAS_POR_DIA = 3\n",
    "NUM_ACTORES = 5"
   ]
  },
  {
   "cell_type": "code",
   "execution_count": 7,
   "id": "a994bae9-e1fc-49b1-8b1f-e29af3e5a1ee",
   "metadata": {},
   "outputs": [
    {
     "name": "stdout",
     "output_type": "stream",
     "text": [
      "CPU times: total: 21.1 s\n",
      "Wall time: 21.4 s\n"
     ]
    }
   ],
   "source": [
    "%time mejor_coste, mejor_plan = fuerza_bruta(tomas_actores)"
   ]
  },
  {
   "cell_type": "code",
   "execution_count": 8,
   "id": "94f2cd91-a552-4377-b14c-febf4d3a5410",
   "metadata": {},
   "outputs": [
    {
     "name": "stdout",
     "output_type": "stream",
     "text": [
      "Costo mínimo optimizado: 10\n",
      "Día 1: Tomas [1, 2, 3] | Actores convocados: [1, 2, 3, 4]\n",
      "Día 2: Tomas [4, 6, 8] | Actores convocados: [2, 4, 5]\n",
      "Día 3: Tomas [5, 7, 9] | Actores convocados: [1, 3, 5]\n"
     ]
    }
   ],
   "source": [
    "print(\"Costo mínimo optimizado:\", mejor_coste)\n",
    "for i, dia in enumerate(mejor_plan, start=1):\n",
    "    actores_dia = set().union(*(tomas_actores[t] for t in dia))\n",
    "    print(f\"Día {i}: Tomas {sorted(dia)} | Actores convocados: {sorted(actores_dia)}\")"
   ]
  },
  {
   "cell_type": "markdown",
   "id": "532de861-e864-4f06-9c72-2506f9b357c2",
   "metadata": {},
   "source": [
    "## Complejidad Algoritmo Fuerza Bruta"
   ]
  },
  {
   "cell_type": "markdown",
   "id": "b2a38fdb-58e7-43e3-80f8-9b549d76347c",
   "metadata": {},
   "source": [
    "El paso más costoso del algorimo es la generación de todas las particiones posibles del conjunto de tomas, respetando el límite de tomas por día. Este proble está relacionado con el problema de partición restringida y no tiene un fórmula exaca simple, pero su complejidad está acotada por:\n",
    "$$\n",
    "O(B_n)\n",
    "$$\n",
    "donde $B_n$ es el número de Bell, que cuenta el número de particiones posibles sin tener en cuenta las restricciones como vimos previamente. Este número crece más rápido que exponencialmente.\n",
    "Con las restricciones de máximo $k$ tomas por día, se reduce el número de particiones, pero aun así sigue creciendo más rápido que exponecialmente con el número de tomas, no tanto como $O(B_n)$ pero sí mucho más que $O(2^n)$.\n",
    "\n",
    "Esta estrategia rápidamente se vuelve computacionalmente inviable incluso para n moderados."
   ]
  },
  {
   "cell_type": "markdown",
   "id": "d404b8fd-7855-4904-a5c5-0edfaa222dc4",
   "metadata": {},
   "source": [
    "## Algoritmo de Ramificación y Poda"
   ]
  },
  {
   "cell_type": "markdown",
   "id": "a462a72c-3fa0-4efb-9098-e256e3d3550d",
   "metadata": {},
   "source": [
    "El algoritmo de ramificación y poda construye iterativamente un calendario de grabación, añadiendo cada toma a los días existentes o a un nuevo día. Tras cada paso, calcula el coste parcial acumulado y compara con la mejor solución hasta el momemento. Si el coste actual ya supera al mejor, se descarta esa rama del árbol de búsqueda, evitando así explorar combinaciones no prometedoras. \n",
    "\n",
    "De esta forma, esta técnica mejora significativamente la eficiencia respecto al algoritmo de fuerza bruta, que examina todas las particiones posibles del conjunto de tomas."
   ]
  },
  {
   "cell_type": "markdown",
   "id": "9e9b4b02-1e43-4b1f-b22b-f5c9ace8c70f",
   "metadata": {},
   "source": [
    "### Implementación del Algoritmo"
   ]
  },
  {
   "cell_type": "code",
   "execution_count": 11,
   "id": "3e0115e9-e82d-4d5d-af0e-80db921594a3",
   "metadata": {},
   "outputs": [],
   "source": [
    "# Variables globales\n",
    "mejor_coste = float('inf')\n",
    "mejor_solucion = None\n",
    "\n",
    "# Algoritmo de Ramificación y Poda\n",
    "def ramificacion_y_poda(tomas_restantes, calendario_actual):\n",
    "    global mejor_coste, mejor_solucion\n",
    "\n",
    "    if not tomas_restantes:\n",
    "        coste_actual = calcular_coste(calendario_actual)\n",
    "        if coste_actual < mejor_coste:\n",
    "            mejor_coste = coste_actual\n",
    "            mejor_solucion = copy.deepcopy(calendario_actual)\n",
    "        return\n",
    "\n",
    "    toma = tomas_restantes.pop()\n",
    "\n",
    "    # Añadir a días existentes\n",
    "    for i in range(len(calendario_actual)):\n",
    "        if len(calendario_actual[i]) < MAX_TOMAS_POR_DIA:\n",
    "            calendario_actual[i].append(toma)\n",
    "            coste_parcial = calcular_coste(calendario_actual)\n",
    "            if coste_parcial < mejor_coste:\n",
    "                ramificacion_y_poda(tomas_restantes, calendario_actual)\n",
    "            calendario_actual[i].pop()\n",
    "\n",
    "    # Crear nuevo día\n",
    "    calendario_actual.append([toma])\n",
    "    coste_parcial = calcular_coste(calendario_actual)\n",
    "    if coste_parcial < mejor_coste:\n",
    "        ramificacion_y_poda(tomas_restantes, calendario_actual)\n",
    "    calendario_actual.pop()\n",
    "\n",
    "    tomas_restantes.add(toma)"
   ]
  },
  {
   "cell_type": "markdown",
   "id": "01485a40-79ff-4a2d-9319-c184ae3dfaf3",
   "metadata": {},
   "source": [
    "### Conjunto de datos de prueba"
   ]
  },
  {
   "cell_type": "markdown",
   "id": "425a4e99-b645-493e-8c32-492146a6bfeb",
   "metadata": {},
   "source": [
    "Vamos a usar el mismo conjunto de datos de prueba que para el algorimo de fuerza bruta, de esta forma podemos realizar una comparación directa de rendimiento."
   ]
  },
  {
   "cell_type": "code",
   "execution_count": 12,
   "id": "3bed1ef2-2eda-49f4-88da-3e9db1d0ef30",
   "metadata": {},
   "outputs": [],
   "source": [
    "tomas_actores = {\n",
    "    1: {1, 2},\n",
    "    2: {2, 3},\n",
    "    3: {3, 4},\n",
    "    4: {4, 5},\n",
    "    5: {1, 5},\n",
    "    6: {2, 4},\n",
    "    7: {1, 3},\n",
    "    8: {2, 5},\n",
    "    9: {3, 5},\n",
    "}\n",
    "\n",
    "MAX_TOMAS_POR_DIA = 3\n",
    "NUM_ACTORES = 5"
   ]
  },
  {
   "cell_type": "code",
   "execution_count": 13,
   "id": "38865cca-09d0-405e-87c7-bd10af011e0b",
   "metadata": {},
   "outputs": [
    {
     "name": "stdout",
     "output_type": "stream",
     "text": [
      "CPU times: total: 0 ns\n",
      "Wall time: 1.51 ms\n"
     ]
    }
   ],
   "source": [
    "# Ejecutar algoritmo\n",
    "todas_tomas = set(tomas_actores.keys())\n",
    "%time ramificacion_y_poda(todas_tomas, [])"
   ]
  },
  {
   "cell_type": "code",
   "execution_count": 14,
   "id": "d8802294-013f-4a60-9e62-622d34a53235",
   "metadata": {},
   "outputs": [
    {
     "name": "stdout",
     "output_type": "stream",
     "text": [
      "Costo mínimo optimizado: 10\n",
      "Día 1: Tomas [1, 2, 3] | Actores convocados: [1, 2, 3, 4]\n",
      "Día 2: Tomas [4, 6, 8] | Actores convocados: [2, 4, 5]\n",
      "Día 3: Tomas [5, 7, 9] | Actores convocados: [1, 3, 5]\n"
     ]
    }
   ],
   "source": [
    "# Mostrar resultados finales\n",
    "print(\"Costo mínimo optimizado:\", mejor_coste)\n",
    "for i, dia in enumerate(mejor_solucion, start=1):\n",
    "    actores_dia = set().union(*(tomas_actores[t] for t in dia))\n",
    "    print(f\"Día {i}: Tomas {sorted(dia)} | Actores convocados: {sorted(actores_dia)}\")"
   ]
  },
  {
   "cell_type": "markdown",
   "id": "7d38bd99-d7a9-4832-8001-4b6aef1ca204",
   "metadata": {},
   "source": [
    "Comparando el algorimo de fuerza bruta con el de ramificación y poda para este conjunto de datos, vemos que se obtiene el mismo resultado, lo que hace indicar que la implemntación es correcta. Sin embargo, vemos que el rendimiento del algoritmo de ramificación y poda es significativamente mejor que el de fuerza bruta.\n",
    "\n",
    "**Tiempos de ejecución:**\n",
    "- Fuerza Bruta: 21.2 s\n",
    "- Ramificación y Poda: 15.6 ms"
   ]
  },
  {
   "cell_type": "markdown",
   "id": "aebf338d-de15-478e-b1a3-dd646a12798c",
   "metadata": {},
   "source": [
    "## Complejidad Algortimo Ramificación y Poda"
   ]
  },
  {
   "cell_type": "markdown",
   "id": "add7666a-9c70-4c2b-903a-1a7fda2e35b2",
   "metadata": {},
   "source": [
    "Para estimar la complejidad del algoritmo comenzamos ignorando inicialmente la poda. Supongamos que hay $n$ tomas para grabar. En cada paso, para una toma dada, se puede asignarla a uno de los días ya existentes o crear un nuevo día con esa toma. Teniendo como máximo $n$ días en el peor caso\n",
    "\n",
    "Por tanto, en el peor de los casos, cada una de las $n$ tomas tiene hasta $n$ posibles ubicaciones, lo que da una cota superior de complejidad:\n",
    "\n",
    "$$\n",
    "O(n^n)\n",
    "$$\n",
    "\n",
    "Este crecimiento es exponencial y, por tanto, inabordable para valores grandes de $n$.\n",
    "\n",
    "\n",
    "Sin embargo, al añadir la poda y descargar las ramas que vayan superando el mejor coste encontrado puediendo reducir drásticamente el espacio de búsqueda. En el peor caso, la poda no logra eliminar muchas ramas y el algoritmo sigue teniendo complejidad exponencial. Pero en la práctica, el algoritmo suele ser mucho más eficiente, sobre todo si se encuentra pronto una buena solución temprana y se podan muchas ramas."
   ]
  },
  {
   "cell_type": "markdown",
   "id": "f2fb6d0c-ca9f-4798-8520-4bce9b565df3",
   "metadata": {},
   "source": [
    "## Aplicacion del Algoritmo sobre los Datos del Problema"
   ]
  },
  {
   "cell_type": "markdown",
   "id": "02108d19-4e78-41ae-95cc-c3486b31eec0",
   "metadata": {},
   "source": [
    "Ahora que ya hemos probado y funciona el algoritmo de ramificación y poda sobre un conjunto de prueba reducido vamos a ponerlo en práctica sobre el conjunto dado en el enunciado. Tenemos:"
   ]
  },
  {
   "cell_type": "code",
   "execution_count": 15,
   "id": "e4000304-7cb3-4ac7-a40d-9d0e1b2e8f8b",
   "metadata": {},
   "outputs": [],
   "source": [
    "tomas_actores = {\n",
    "    1: {1, 2, 3, 4, 5},\n",
    "    2: {3, 4, 5},\n",
    "    3: {2, 5, 7},\n",
    "    4: {1, 2, 7, 8},\n",
    "    5: {2, 4, 8},\n",
    "    6: {1, 2, 4, 5},\n",
    "    7: {1, 2, 4, 5},\n",
    "    8: {1, 2, 6},\n",
    "    9: {1, 2, 4},\n",
    "    10: {1, 2, 6, 9},\n",
    "    11: {1, 2, 3, 5, 8},\n",
    "    12: {1, 2, 3, 4, 6},\n",
    "    13: {1, 4, 5},\n",
    "    14: {1, 3, 6},\n",
    "    15: {1, 2, 7},\n",
    "    16: {4, 10},\n",
    "    17: {1, 3},\n",
    "    18: {3, 6},\n",
    "    19: {1, 3},\n",
    "    20: {1, 3, 4, 5},\n",
    "    21: {6, 8},\n",
    "    22: {1, 2, 3, 4},\n",
    "    23: {1, 3},\n",
    "    24: {3, 6},\n",
    "    25: {1, 2, 4, 10},\n",
    "    26: {1, 3, 5, 9},\n",
    "    27: {4, 5},\n",
    "    28: {1, 4},\n",
    "    29: {1, 5, 6},\n",
    "    30: {1, 4},\n",
    "}"
   ]
  },
  {
   "cell_type": "code",
   "execution_count": 17,
   "id": "8778e54d-33ac-41a9-a275-a35b34f911aa",
   "metadata": {},
   "outputs": [],
   "source": [
    "# Constantes\n",
    "MAX_TOMAS_POR_DIA = 6\n",
    "NUM_ACTORES = 10"
   ]
  },
  {
   "cell_type": "code",
   "execution_count": 18,
   "id": "6d4498a4-4b1d-41ee-887d-856e745f2ac0",
   "metadata": {},
   "outputs": [],
   "source": [
    "# Variables globales\n",
    "mejor_coste = float('inf')\n",
    "mejor_solucion = None"
   ]
  },
  {
   "cell_type": "code",
   "execution_count": 19,
   "id": "c194fe76-167a-4bd2-b2c5-df83938cd0ca",
   "metadata": {},
   "outputs": [],
   "source": [
    "# Ejecutar algoritmo\n",
    "todas_tomas = set(tomas_actores.keys())\n",
    "ramificacion_y_poda(todas_tomas, [])\n",
    "\n"
   ]
  },
  {
   "cell_type": "code",
   "execution_count": 20,
   "id": "29aaadf9-cae0-43bc-89d8-79e963d4dbbd",
   "metadata": {},
   "outputs": [
    {
     "name": "stdout",
     "output_type": "stream",
     "text": [
      "Costo mínimo optimizado: 27\n",
      "Día 1: Tomas [1, 2, 3, 4, 11, 15] | Actores convocados: [1, 2, 3, 4, 5, 7, 8]\n",
      "Día 2: Tomas [5, 8, 16, 21, 25, 28] | Actores convocados: [1, 2, 4, 6, 8, 10]\n",
      "Día 3: Tomas [6, 7, 9, 13, 27, 30] | Actores convocados: [1, 2, 4, 5]\n",
      "Día 4: Tomas [14, 17, 18, 19, 23, 24] | Actores convocados: [1, 3, 6]\n",
      "Día 5: Tomas [10, 12, 20, 22, 26, 29] | Actores convocados: [1, 2, 3, 4, 5, 6, 9]\n"
     ]
    }
   ],
   "source": [
    "# Mostrar resultados finales\n",
    "print(\"Costo mínimo optimizado:\", mejor_coste)\n",
    "for i, dia in enumerate(mejor_solucion, start=1):\n",
    "    actores_dia = set().union(*(tomas_actores[t] for t in dia))\n",
    "    print(f\"Día {i}: Tomas {sorted(dia)} | Actores convocados: {sorted(actores_dia)}\")"
   ]
  },
  {
   "cell_type": "markdown",
   "id": "17e4ca59-ba38-43d2-8a98-cc49fcdc7743",
   "metadata": {},
   "source": [
    "El tiempo de ejecución del algoritmo ha sido aproximadamente un poco más de 3 días completos. Aunque aplicando el algoritmo de ramificación y poda hemos podido alcanzar la solución que hubiera sido inviable mediante el algoritmo de fuerza bruta, el tiempo involucrado en el proceso ha sido bastante alto."
   ]
  },
  {
   "cell_type": "markdown",
   "id": "d59d4f37-4de1-4cf1-a555-00ada8c9355b",
   "metadata": {},
   "source": [
    "## Mejorando el Algoritmo"
   ]
  },
  {
   "cell_type": "markdown",
   "id": "38ba750e-d731-449d-a466-959c223d4f46",
   "metadata": {},
   "source": [
    "Para mejorar el algoritmo de ramificación y poda se pueden implementar varias optimizaciones para reducir el espacio de búsqueda y ofrecer mejor rendimiento:\n",
    "1. Heurística voraz inicial: Con esto se consigue acotar desde el principio construyendo una solución inicial rápida de forma que se tenga un primer valor de coste que se usa como umbral de poda para el algortimo, eliminando muchas ramas desde el inicio.\n",
    "2. Ordenación inicial: Se procesan primero las tomas que requieren más actores, ya que son más dificiles de ubicar.\n",
    "3. Selección de la toma más restrictiva en cada paso: Explorando las opciones más costosas antes, si se obtiene una solución mala se descarta más rápido."
   ]
  },
  {
   "cell_type": "markdown",
   "id": "4e5e5997-9ab0-4562-8a8a-02e08ad96f6d",
   "metadata": {},
   "source": [
    "### Implementación de la versión mejorada"
   ]
  },
  {
   "cell_type": "code",
   "execution_count": 21,
   "id": "b6b43d52-ac22-4f2c-b0b4-b8a3d42e3e4b",
   "metadata": {},
   "outputs": [],
   "source": [
    "# Solución inicial rápida\n",
    "def heuristica_voraz(tomas_ordenadas):\n",
    "    calendario = []\n",
    "    for toma in tomas_ordenadas:\n",
    "        añadido = False\n",
    "        for dia in calendario:\n",
    "            if len(dia) < MAX_TOMAS_POR_DIA:\n",
    "                dia.append(toma)\n",
    "                añadido = True\n",
    "                break\n",
    "        if not añadido:\n",
    "            calendario.append([toma])\n",
    "    return calendario"
   ]
  },
  {
   "cell_type": "code",
   "execution_count": 22,
   "id": "86477380-5e0b-4802-bea2-8987cdbd417f",
   "metadata": {},
   "outputs": [],
   "source": [
    "# Ramificación y poda mejorada\n",
    "def ramificacion_y_poda_mejorada(tomas_restantes, calendario_actual):\n",
    "    global mejor_coste, mejor_solucion\n",
    "\n",
    "    if not tomas_restantes:\n",
    "        coste_actual = calcular_coste(calendario_actual)\n",
    "        if coste_actual < mejor_coste:\n",
    "            mejor_coste = coste_actual\n",
    "            mejor_solucion = copy.deepcopy(calendario_actual)\n",
    "        return\n",
    "\n",
    "    # Seleccionamos la siguiente toma (más restrictiva)\n",
    "    toma = max(tomas_restantes, key=lambda x: len(tomas_actores[x]))\n",
    "    tomas_restantes.remove(toma)\n",
    "\n",
    "    # Probar añadir a días existentes\n",
    "    for i in range(len(calendario_actual)):\n",
    "        if len(calendario_actual[i]) < MAX_TOMAS_POR_DIA:\n",
    "            calendario_actual[i].append(toma)\n",
    "            coste_parcial = calcular_coste(calendario_actual)\n",
    "            if coste_parcial < mejor_coste:\n",
    "                ramificacion_y_poda(tomas_restantes, calendario_actual)\n",
    "            calendario_actual[i].pop()\n",
    "\n",
    "    # Probar crear nuevo día\n",
    "    calendario_actual.append([toma])\n",
    "    coste_parcial = calcular_coste(calendario_actual)\n",
    "    if coste_parcial < mejor_coste:\n",
    "        ramificacion_y_poda(tomas_restantes, calendario_actual)\n",
    "    calendario_actual.pop()\n",
    "\n",
    "    tomas_restantes.add(toma)"
   ]
  },
  {
   "cell_type": "code",
   "execution_count": 23,
   "id": "a23cc38d-1f35-4219-b2fd-28295a5f0bbb",
   "metadata": {},
   "outputs": [],
   "source": [
    "# Preparar orden: tomas con más actores primero\n",
    "tomas_ordenadas = sorted(tomas_actores.keys(), key=lambda x: -len(tomas_actores[x]))\n",
    "\n",
    "# Solución inicial para acotar\n",
    "mejor_solucion = heuristica_voraz(tomas_ordenadas)\n",
    "mejor_coste = calcular_coste(mejor_solucion)"
   ]
  },
  {
   "cell_type": "code",
   "execution_count": 29,
   "id": "83533579-657a-44bc-b0a9-3e1999c5578c",
   "metadata": {},
   "outputs": [
    {
     "name": "stdout",
     "output_type": "stream",
     "text": [
      "CPU times: total: 20min 39s\n",
      "Wall time: 20min 55s\n"
     ]
    }
   ],
   "source": [
    "# Ejecutar búsqueda\n",
    "%time ramificacion_y_poda(set(tomas_actores.keys()), [])"
   ]
  },
  {
   "cell_type": "code",
   "execution_count": 30,
   "id": "90bec02d-1c3e-4dba-b2db-aa884f31b6d6",
   "metadata": {},
   "outputs": [
    {
     "name": "stdout",
     "output_type": "stream",
     "text": [
      "Costo mínimo optimizado: 27\n",
      "Día 1: Tomas [1, 11, 12, 6, 10, 26] | Actores convocados: [1, 2, 3, 4, 5, 6, 8, 9]\n",
      "Día 2: Tomas [4, 8, 3, 15, 29, 21] | Actores convocados: [1, 2, 5, 6, 7, 8]\n",
      "Día 3: Tomas [7, 20, 22, 2, 13, 27] | Actores convocados: [1, 2, 3, 4, 5]\n",
      "Día 4: Tomas [25, 9, 5, 16, 30, 28] | Actores convocados: [1, 2, 4, 8, 10]\n",
      "Día 5: Tomas [14, 17, 18, 19, 23, 24] | Actores convocados: [1, 3, 6]\n"
     ]
    }
   ],
   "source": [
    "# Mostrar resultados finales\n",
    "print(\"Costo mínimo optimizado:\", mejor_coste)\n",
    "for i, dia in enumerate(mejor_solucion, start=1):\n",
    "    actores_dia = set().union(*(tomas_actores[t] for t in dia))\n",
    "    print(f\"Día {i}: Tomas {dia} | Actores convocados: {sorted(actores_dia)}\")"
   ]
  },
  {
   "cell_type": "markdown",
   "id": "f0b0b3b2-4e23-4009-9807-b0e93e92b3e0",
   "metadata": {},
   "source": [
    "Con estas mejoras hemos pasado de alcanzar al solución del problema en 3 días de cálculo a tan sólo 20 minutos."
   ]
  },
  {
   "cell_type": "markdown",
   "id": "9db21c35-7f05-42c9-a222-a42bc8d8aa46",
   "metadata": {},
   "source": [
    "## Referencias"
   ]
  },
  {
   "cell_type": "markdown",
   "id": "c2233c17-dbe5-4e58-a5d2-4e838da22718",
   "metadata": {},
   "source": [
    "\n",
    "\n",
    "\\[1] Wikipedia, \"Número de Bell,\" *Wikipedia, La enciclopedia libre*. Disponible en: [https://es.wikipedia.org/wiki/N%C3%BAmero\\_de\\_Bell](https://es.wikipedia.org/wiki/N%C3%BAmero_de_Bell). \n",
    "\n",
    "\\[2] R. Guerequeta y A. Vallecillo, *Técnicas de diseño de algoritmos*, capítulo 7, 2000. Disponible en: [http://www.lcc.uma.es/%7eav/Libro/CAP7.pdf](http://www.lcc.uma.es/%7eav/Libro/CAP7.pdf). \n",
    "\n",
    "\n"
   ]
  },
  {
   "cell_type": "code",
   "execution_count": null,
   "id": "614cef92-5ae3-492c-a1ca-919fcd98cd92",
   "metadata": {},
   "outputs": [],
   "source": []
  }
 ],
 "metadata": {
  "kernelspec": {
   "display_name": "Python 3 (ipykernel)",
   "language": "python",
   "name": "python3"
  },
  "language_info": {
   "codemirror_mode": {
    "name": "ipython",
    "version": 3
   },
   "file_extension": ".py",
   "mimetype": "text/x-python",
   "name": "python",
   "nbconvert_exporter": "python",
   "pygments_lexer": "ipython3",
   "version": "3.12.7"
  }
 },
 "nbformat": 4,
 "nbformat_minor": 5
}
